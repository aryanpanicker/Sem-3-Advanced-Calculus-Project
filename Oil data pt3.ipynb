{
 "cells": [
  {
   "cell_type": "code",
   "execution_count": 1,
   "id": "afbdd5f6",
   "metadata": {},
   "outputs": [],
   "source": [
    "import pandas as pd\n",
    "import numpy as np\n",
    "import matplotlib.pyplot as plt\n",
    "%matplotlib inline"
   ]
  },
  {
   "cell_type": "code",
   "execution_count": 2,
   "id": "c7d6681b",
   "metadata": {},
   "outputs": [],
   "source": [
    "df=pd.read_excel(\"WOC training.xlsx\")"
   ]
  },
  {
   "cell_type": "code",
   "execution_count": 3,
   "id": "490c5aa7",
   "metadata": {},
   "outputs": [
    {
     "data": {
      "text/html": [
       "<div>\n",
       "<style scoped>\n",
       "    .dataframe tbody tr th:only-of-type {\n",
       "        vertical-align: middle;\n",
       "    }\n",
       "\n",
       "    .dataframe tbody tr th {\n",
       "        vertical-align: top;\n",
       "    }\n",
       "\n",
       "    .dataframe thead th {\n",
       "        text-align: right;\n",
       "    }\n",
       "</style>\n",
       "<table border=\"1\" class=\"dataframe\">\n",
       "  <thead>\n",
       "    <tr style=\"text-align: right;\">\n",
       "      <th></th>\n",
       "      <th>Year</th>\n",
       "      <th>USA</th>\n",
       "      <th>China</th>\n",
       "      <th>Australia</th>\n",
       "      <th>World</th>\n",
       "    </tr>\n",
       "  </thead>\n",
       "  <tbody>\n",
       "    <tr>\n",
       "      <th>0</th>\n",
       "      <td>1965</td>\n",
       "      <td>6414.477051</td>\n",
       "      <td>129.062531</td>\n",
       "      <td>200.019363</td>\n",
       "      <td>17989.603516</td>\n",
       "    </tr>\n",
       "    <tr>\n",
       "      <th>1</th>\n",
       "      <td>1966</td>\n",
       "      <td>6731.245117</td>\n",
       "      <td>165.799911</td>\n",
       "      <td>214.047546</td>\n",
       "      <td>19341.146484</td>\n",
       "    </tr>\n",
       "    <tr>\n",
       "      <th>2</th>\n",
       "      <td>1967</td>\n",
       "      <td>6988.793945</td>\n",
       "      <td>163.692841</td>\n",
       "      <td>234.387772</td>\n",
       "      <td>20732.136719</td>\n",
       "    </tr>\n",
       "    <tr>\n",
       "      <th>3</th>\n",
       "      <td>1968</td>\n",
       "      <td>7457.960938</td>\n",
       "      <td>179.034576</td>\n",
       "      <td>255.284988</td>\n",
       "      <td>22488.332031</td>\n",
       "    </tr>\n",
       "    <tr>\n",
       "      <th>4</th>\n",
       "      <td>1969</td>\n",
       "      <td>7831.837891</td>\n",
       "      <td>240.044327</td>\n",
       "      <td>262.448120</td>\n",
       "      <td>24353.000000</td>\n",
       "    </tr>\n",
       "  </tbody>\n",
       "</table>\n",
       "</div>"
      ],
      "text/plain": [
       "   Year          USA       China   Australia         World\n",
       "0  1965  6414.477051  129.062531  200.019363  17989.603516\n",
       "1  1966  6731.245117  165.799911  214.047546  19341.146484\n",
       "2  1967  6988.793945  163.692841  234.387772  20732.136719\n",
       "3  1968  7457.960938  179.034576  255.284988  22488.332031\n",
       "4  1969  7831.837891  240.044327  262.448120  24353.000000"
      ]
     },
     "execution_count": 3,
     "metadata": {},
     "output_type": "execute_result"
    }
   ],
   "source": [
    "df.head()"
   ]
  },
  {
   "cell_type": "code",
   "execution_count": 6,
   "id": "14b9ab63",
   "metadata": {},
   "outputs": [
    {
     "data": {
      "text/html": [
       "<div>\n",
       "<style scoped>\n",
       "    .dataframe tbody tr th:only-of-type {\n",
       "        vertical-align: middle;\n",
       "    }\n",
       "\n",
       "    .dataframe tbody tr th {\n",
       "        vertical-align: top;\n",
       "    }\n",
       "\n",
       "    .dataframe thead th {\n",
       "        text-align: right;\n",
       "    }\n",
       "</style>\n",
       "<table border=\"1\" class=\"dataframe\">\n",
       "  <thead>\n",
       "    <tr style=\"text-align: right;\">\n",
       "      <th></th>\n",
       "      <th>Year</th>\n",
       "      <th>USA</th>\n",
       "      <th>China</th>\n",
       "      <th>Australia</th>\n",
       "      <th>World</th>\n",
       "    </tr>\n",
       "  </thead>\n",
       "  <tbody>\n",
       "    <tr>\n",
       "      <th>count</th>\n",
       "      <td>41.000000</td>\n",
       "      <td>41.000000</td>\n",
       "      <td>41.000000</td>\n",
       "      <td>41.000000</td>\n",
       "      <td>41.000000</td>\n",
       "    </tr>\n",
       "    <tr>\n",
       "      <th>mean</th>\n",
       "      <td>1985.000000</td>\n",
       "      <td>9301.646187</td>\n",
       "      <td>1370.615776</td>\n",
       "      <td>364.393897</td>\n",
       "      <td>35066.132241</td>\n",
       "    </tr>\n",
       "    <tr>\n",
       "      <th>std</th>\n",
       "      <td>11.979149</td>\n",
       "      <td>1157.809296</td>\n",
       "      <td>966.514212</td>\n",
       "      <td>71.123458</td>\n",
       "      <td>7070.032967</td>\n",
       "    </tr>\n",
       "    <tr>\n",
       "      <th>min</th>\n",
       "      <td>1965.000000</td>\n",
       "      <td>6414.477051</td>\n",
       "      <td>129.062531</td>\n",
       "      <td>200.019363</td>\n",
       "      <td>17989.603516</td>\n",
       "    </tr>\n",
       "    <tr>\n",
       "      <th>25%</th>\n",
       "      <td>1975.000000</td>\n",
       "      <td>8573.317383</td>\n",
       "      <td>804.078247</td>\n",
       "      <td>330.978943</td>\n",
       "      <td>32534.806641</td>\n",
       "    </tr>\n",
       "    <tr>\n",
       "      <th>50%</th>\n",
       "      <td>1985.000000</td>\n",
       "      <td>9376.044922</td>\n",
       "      <td>1076.636841</td>\n",
       "      <td>362.620819</td>\n",
       "      <td>35514.421875</td>\n",
       "    </tr>\n",
       "    <tr>\n",
       "      <th>75%</th>\n",
       "      <td>1995.000000</td>\n",
       "      <td>10251.112305</td>\n",
       "      <td>1825.630737</td>\n",
       "      <td>427.777496</td>\n",
       "      <td>39442.175781</td>\n",
       "    </tr>\n",
       "    <tr>\n",
       "      <th>max</th>\n",
       "      <td>2005.000000</td>\n",
       "      <td>11214.078125</td>\n",
       "      <td>3838.487061</td>\n",
       "      <td>478.701874</td>\n",
       "      <td>46672.656250</td>\n",
       "    </tr>\n",
       "  </tbody>\n",
       "</table>\n",
       "</div>"
      ],
      "text/plain": [
       "              Year           USA        China   Australia         World\n",
       "count    41.000000     41.000000    41.000000   41.000000     41.000000\n",
       "mean   1985.000000   9301.646187  1370.615776  364.393897  35066.132241\n",
       "std      11.979149   1157.809296   966.514212   71.123458   7070.032967\n",
       "min    1965.000000   6414.477051   129.062531  200.019363  17989.603516\n",
       "25%    1975.000000   8573.317383   804.078247  330.978943  32534.806641\n",
       "50%    1985.000000   9376.044922  1076.636841  362.620819  35514.421875\n",
       "75%    1995.000000  10251.112305  1825.630737  427.777496  39442.175781\n",
       "max    2005.000000  11214.078125  3838.487061  478.701874  46672.656250"
      ]
     },
     "execution_count": 6,
     "metadata": {},
     "output_type": "execute_result"
    }
   ],
   "source": [
    "df.describe()"
   ]
  },
  {
   "cell_type": "code",
   "execution_count": 5,
   "id": "b15cd526",
   "metadata": {},
   "outputs": [
    {
     "name": "stdout",
     "output_type": "stream",
     "text": [
      "<class 'pandas.core.frame.DataFrame'>\n",
      "RangeIndex: 41 entries, 0 to 40\n",
      "Data columns (total 5 columns):\n",
      " #   Column     Non-Null Count  Dtype  \n",
      "---  ------     --------------  -----  \n",
      " 0   Year       41 non-null     int64  \n",
      " 1   USA        41 non-null     float64\n",
      " 2   China      41 non-null     float64\n",
      " 3   Australia  41 non-null     float64\n",
      " 4   World      41 non-null     float64\n",
      "dtypes: float64(4), int64(1)\n",
      "memory usage: 1.7 KB\n"
     ]
    }
   ],
   "source": [
    "df.info()"
   ]
  },
  {
   "cell_type": "code",
   "execution_count": 7,
   "id": "7b3386d1",
   "metadata": {},
   "outputs": [],
   "source": [
    "X=df.Year.values\n",
    "y=df.China.values"
   ]
  },
  {
   "cell_type": "code",
   "execution_count": 8,
   "id": "9d312c69",
   "metadata": {},
   "outputs": [],
   "source": [
    "from sklearn.linear_model import LinearRegression\n",
    "from sklearn.model_selection import train_test_split"
   ]
  },
  {
   "cell_type": "code",
   "execution_count": 9,
   "id": "95eca836",
   "metadata": {},
   "outputs": [],
   "source": [
    "X_train, X_test, y_train, y_test = train_test_split(X,y, train_size=0.75)\n",
    "X_train=X_train.reshape(-1,1)\n",
    "X_test=X_test.reshape(-1,1)"
   ]
  },
  {
   "cell_type": "code",
   "execution_count": 10,
   "id": "f73c26af",
   "metadata": {},
   "outputs": [],
   "source": [
    "model=LinearRegression()"
   ]
  },
  {
   "cell_type": "code",
   "execution_count": 11,
   "id": "6946591a",
   "metadata": {},
   "outputs": [
    {
     "data": {
      "text/plain": [
       "LinearRegression()"
      ]
     },
     "execution_count": 11,
     "metadata": {},
     "output_type": "execute_result"
    }
   ],
   "source": [
    "model.fit(X_train,y_train)"
   ]
  },
  {
   "cell_type": "code",
   "execution_count": 13,
   "id": "f82df965",
   "metadata": {},
   "outputs": [],
   "source": [
    "y_predicted=model.predict(X_test)"
   ]
  },
  {
   "cell_type": "code",
   "execution_count": 14,
   "id": "be95def7",
   "metadata": {},
   "outputs": [
    {
     "data": {
      "text/plain": [
       "0.8009224581228296"
      ]
     },
     "execution_count": 14,
     "metadata": {},
     "output_type": "execute_result"
    }
   ],
   "source": [
    "model.score(X_test, y_test)"
   ]
  },
  {
   "cell_type": "code",
   "execution_count": 24,
   "id": "ebcdf75f",
   "metadata": {},
   "outputs": [
    {
     "data": {
      "text/html": [
       "<div>\n",
       "<style scoped>\n",
       "    .dataframe tbody tr th:only-of-type {\n",
       "        vertical-align: middle;\n",
       "    }\n",
       "\n",
       "    .dataframe tbody tr th {\n",
       "        vertical-align: top;\n",
       "    }\n",
       "\n",
       "    .dataframe thead th {\n",
       "        text-align: right;\n",
       "    }\n",
       "</style>\n",
       "<table border=\"1\" class=\"dataframe\">\n",
       "  <thead>\n",
       "    <tr style=\"text-align: right;\">\n",
       "      <th></th>\n",
       "      <th>Year</th>\n",
       "      <th>USA</th>\n",
       "      <th>USA Pred</th>\n",
       "      <th>China</th>\n",
       "      <th>China Pred</th>\n",
       "      <th>Australia</th>\n",
       "      <th>Aus Pred</th>\n",
       "      <th>World</th>\n",
       "      <th>World Pred</th>\n",
       "    </tr>\n",
       "  </thead>\n",
       "  <tbody>\n",
       "    <tr>\n",
       "      <th>11</th>\n",
       "      <td>2017</td>\n",
       "      <td>10057.775391</td>\n",
       "      <td>9924.912513</td>\n",
       "      <td>7183.171875</td>\n",
       "      <td>7520.241791</td>\n",
       "      <td>599.579773</td>\n",
       "      <td>576.079564</td>\n",
       "      <td>52515.542969</td>\n",
       "      <td>NaN</td>\n",
       "    </tr>\n",
       "    <tr>\n",
       "      <th>12</th>\n",
       "      <td>2018</td>\n",
       "      <td>10299.730469</td>\n",
       "      <td>9903.943062</td>\n",
       "      <td>7534.662109</td>\n",
       "      <td>7671.832619</td>\n",
       "      <td>610.111206</td>\n",
       "      <td>587.278502</td>\n",
       "      <td>53250.621094</td>\n",
       "      <td>NaN</td>\n",
       "    </tr>\n",
       "    <tr>\n",
       "      <th>13</th>\n",
       "      <td>2019</td>\n",
       "      <td>10283.932617</td>\n",
       "      <td>9882.973611</td>\n",
       "      <td>7915.177734</td>\n",
       "      <td>7823.423447</td>\n",
       "      <td>604.194458</td>\n",
       "      <td>598.477440</td>\n",
       "      <td>53368.628906</td>\n",
       "      <td>NaN</td>\n",
       "    </tr>\n",
       "    <tr>\n",
       "      <th>14</th>\n",
       "      <td>2020</td>\n",
       "      <td>9032.397461</td>\n",
       "      <td>9862.004160</td>\n",
       "      <td>7984.452637</td>\n",
       "      <td>7975.014275</td>\n",
       "      <td>522.167236</td>\n",
       "      <td>609.676378</td>\n",
       "      <td>48380.710938</td>\n",
       "      <td>NaN</td>\n",
       "    </tr>\n",
       "    <tr>\n",
       "      <th>15</th>\n",
       "      <td>2021</td>\n",
       "      <td>9813.041016</td>\n",
       "      <td>9841.034708</td>\n",
       "      <td>8499.583008</td>\n",
       "      <td>8126.605103</td>\n",
       "      <td>536.348999</td>\n",
       "      <td>620.875316</td>\n",
       "      <td>51170.472656</td>\n",
       "      <td>NaN</td>\n",
       "    </tr>\n",
       "  </tbody>\n",
       "</table>\n",
       "</div>"
      ],
      "text/plain": [
       "    Year           USA     USA Pred        China   China Pred   Australia  \\\n",
       "11  2017  10057.775391  9924.912513  7183.171875  7520.241791  599.579773   \n",
       "12  2018  10299.730469  9903.943062  7534.662109  7671.832619  610.111206   \n",
       "13  2019  10283.932617  9882.973611  7915.177734  7823.423447  604.194458   \n",
       "14  2020   9032.397461  9862.004160  7984.452637  7975.014275  522.167236   \n",
       "15  2021   9813.041016  9841.034708  8499.583008  8126.605103  536.348999   \n",
       "\n",
       "      Aus Pred         World  World Pred  \n",
       "11  576.079564  52515.542969         NaN  \n",
       "12  587.278502  53250.621094         NaN  \n",
       "13  598.477440  53368.628906         NaN  \n",
       "14  609.676378  48380.710938         NaN  \n",
       "15  620.875316  51170.472656         NaN  "
      ]
     },
     "execution_count": 24,
     "metadata": {},
     "output_type": "execute_result"
    }
   ],
   "source": [
    "data=pd.read_excel(\"WOC testing.xlsx\")\n",
    "data.tail()"
   ]
  },
  {
   "cell_type": "code",
   "execution_count": 16,
   "id": "d835e2e0",
   "metadata": {},
   "outputs": [],
   "source": [
    "a=data.Year.values\n",
    "a=a.reshape(-1,1)\n",
    "b=data.Australia.values"
   ]
  },
  {
   "cell_type": "code",
   "execution_count": 17,
   "id": "c8c49c3b",
   "metadata": {},
   "outputs": [],
   "source": [
    "y_pred= model.predict(a)"
   ]
  },
  {
   "cell_type": "code",
   "execution_count": 18,
   "id": "ced5527c",
   "metadata": {},
   "outputs": [
    {
     "data": {
      "text/plain": [
       "-5257.5267093482"
      ]
     },
     "execution_count": 18,
     "metadata": {},
     "output_type": "execute_result"
    }
   ],
   "source": [
    "model.score(a,b)"
   ]
  },
  {
   "cell_type": "code",
   "execution_count": 19,
   "id": "74d2a684",
   "metadata": {},
   "outputs": [
    {
     "data": {
      "text/plain": [
       "[<matplotlib.lines.Line2D at 0x275dc94d670>]"
      ]
     },
     "execution_count": 19,
     "metadata": {},
     "output_type": "execute_result"
    },
    {
     "data": {
      "image/png": "[encoded data removed]",
      "text/plain": [
       "<Figure size 432x288 with 1 Axes>"
      ]
     },
     "metadata": {
      "needs_background": "light"
     },
     "output_type": "display_data"
    }
   ],
   "source": [
    "plt.plot(a,b)\n",
    "plt.plot(a,y_pred)"
   ]
  },
  {
   "cell_type": "code",
   "execution_count": 20,
   "id": "1ee45887",
   "metadata": {},
   "outputs": [
    {
     "data": {
      "text/plain": [
       "array([2717.34747335, 2784.54110152, 2851.73472968, 2918.92835784,\n",
       "       2986.12198601, 3053.31561417, 3120.50924233, 3187.70287049,\n",
       "       3254.89649866, 3322.09012682, 3389.28375498, 3456.47738315,\n",
       "       3523.67101131, 3590.86463947, 3658.05826764, 3725.2518958 ])"
      ]
     },
     "execution_count": 20,
     "metadata": {},
     "output_type": "execute_result"
    }
   ],
   "source": [
    "y_pred"
   ]
  },
  {
   "cell_type": "code",
   "execution_count": 22,
   "id": "4a234792",
   "metadata": {},
   "outputs": [
    {
     "data": {
      "text/html": [
       "<div>\n",
       "<style scoped>\n",
       "    .dataframe tbody tr th:only-of-type {\n",
       "        vertical-align: middle;\n",
       "    }\n",
       "\n",
       "    .dataframe tbody tr th {\n",
       "        vertical-align: top;\n",
       "    }\n",
       "\n",
       "    .dataframe thead th {\n",
       "        text-align: right;\n",
       "    }\n",
       "</style>\n",
       "<table border=\"1\" class=\"dataframe\">\n",
       "  <thead>\n",
       "    <tr style=\"text-align: right;\">\n",
       "      <th></th>\n",
       "      <th>Year</th>\n",
       "      <th>USA</th>\n",
       "      <th>USA Pred</th>\n",
       "      <th>China</th>\n",
       "      <th>China Pred</th>\n",
       "      <th>Australia</th>\n",
       "      <th>Aus Pred</th>\n",
       "      <th>World</th>\n",
       "      <th>World Pred</th>\n",
       "    </tr>\n",
       "  </thead>\n",
       "  <tbody>\n",
       "    <tr>\n",
       "      <th>0</th>\n",
       "      <td>2006</td>\n",
       "      <td>11070.909180</td>\n",
       "      <td>10155.576478</td>\n",
       "      <td>4116.769043</td>\n",
       "      <td>5852.742683</td>\n",
       "      <td>493.641815</td>\n",
       "      <td>NaN</td>\n",
       "      <td>47172.609375</td>\n",
       "      <td>NaN</td>\n",
       "    </tr>\n",
       "    <tr>\n",
       "      <th>1</th>\n",
       "      <td>2007</td>\n",
       "      <td>11001.755859</td>\n",
       "      <td>10134.607027</td>\n",
       "      <td>4313.567383</td>\n",
       "      <td>6004.333511</td>\n",
       "      <td>506.270294</td>\n",
       "      <td>NaN</td>\n",
       "      <td>47758.875000</td>\n",
       "      <td>NaN</td>\n",
       "    </tr>\n",
       "    <tr>\n",
       "      <th>2</th>\n",
       "      <td>2008</td>\n",
       "      <td>10273.695312</td>\n",
       "      <td>10113.637575</td>\n",
       "      <td>4408.091797</td>\n",
       "      <td>6155.924339</td>\n",
       "      <td>512.715942</td>\n",
       "      <td>NaN</td>\n",
       "      <td>47338.687500</td>\n",
       "      <td>NaN</td>\n",
       "    </tr>\n",
       "    <tr>\n",
       "      <th>3</th>\n",
       "      <td>2009</td>\n",
       "      <td>9737.244141</td>\n",
       "      <td>10092.668124</td>\n",
       "      <td>4580.298340</td>\n",
       "      <td>6307.515167</td>\n",
       "      <td>504.140778</td>\n",
       "      <td>NaN</td>\n",
       "      <td>46371.566406</td>\n",
       "      <td>NaN</td>\n",
       "    </tr>\n",
       "    <tr>\n",
       "      <th>4</th>\n",
       "      <td>2010</td>\n",
       "      <td>9891.227539</td>\n",
       "      <td>10071.698673</td>\n",
       "      <td>5214.490234</td>\n",
       "      <td>6459.105995</td>\n",
       "      <td>519.306824</td>\n",
       "      <td>NaN</td>\n",
       "      <td>47895.074219</td>\n",
       "      <td>NaN</td>\n",
       "    </tr>\n",
       "  </tbody>\n",
       "</table>\n",
       "</div>"
      ],
      "text/plain": [
       "   Year           USA      USA Pred        China   China Pred   Australia  \\\n",
       "0  2006  11070.909180  10155.576478  4116.769043  5852.742683  493.641815   \n",
       "1  2007  11001.755859  10134.607027  4313.567383  6004.333511  506.270294   \n",
       "2  2008  10273.695312  10113.637575  4408.091797  6155.924339  512.715942   \n",
       "3  2009   9737.244141  10092.668124  4580.298340  6307.515167  504.140778   \n",
       "4  2010   9891.227539  10071.698673  5214.490234  6459.105995  519.306824   \n",
       "\n",
       "   Aus Pred         World  World Pred  \n",
       "0       NaN  47172.609375         NaN  \n",
       "1       NaN  47758.875000         NaN  \n",
       "2       NaN  47338.687500         NaN  \n",
       "3       NaN  46371.566406         NaN  \n",
       "4       NaN  47895.074219         NaN  "
      ]
     },
     "execution_count": 22,
     "metadata": {},
     "output_type": "execute_result"
    }
   ],
   "source": [
    "data.head()"
   ]
  },
  {
   "cell_type": "code",
   "execution_count": 25,
   "id": "ab28b024",
   "metadata": {},
   "outputs": [
    {
     "data": {
      "text/html": [
       "<div>\n",
       "<style scoped>\n",
       "    .dataframe tbody tr th:only-of-type {\n",
       "        vertical-align: middle;\n",
       "    }\n",
       "\n",
       "    .dataframe tbody tr th {\n",
       "        vertical-align: top;\n",
       "    }\n",
       "\n",
       "    .dataframe thead th {\n",
       "        text-align: right;\n",
       "    }\n",
       "</style>\n",
       "<table border=\"1\" class=\"dataframe\">\n",
       "  <thead>\n",
       "    <tr style=\"text-align: right;\">\n",
       "      <th></th>\n",
       "      <th>Year</th>\n",
       "      <th>USA</th>\n",
       "      <th>USA Pred</th>\n",
       "      <th>China</th>\n",
       "      <th>China Pred</th>\n",
       "      <th>Australia</th>\n",
       "      <th>Aus Pred</th>\n",
       "      <th>World</th>\n",
       "      <th>World Pred</th>\n",
       "    </tr>\n",
       "  </thead>\n",
       "  <tbody>\n",
       "    <tr>\n",
       "      <th>0</th>\n",
       "      <td>2006</td>\n",
       "      <td>11070.909180</td>\n",
       "      <td>10155.576478</td>\n",
       "      <td>4116.769043</td>\n",
       "      <td>5852.742683</td>\n",
       "      <td>493.641815</td>\n",
       "      <td>452.891246</td>\n",
       "      <td>47172.609375</td>\n",
       "      <td>NaN</td>\n",
       "    </tr>\n",
       "    <tr>\n",
       "      <th>1</th>\n",
       "      <td>2007</td>\n",
       "      <td>11001.755859</td>\n",
       "      <td>10134.607027</td>\n",
       "      <td>4313.567383</td>\n",
       "      <td>6004.333511</td>\n",
       "      <td>506.270294</td>\n",
       "      <td>464.090184</td>\n",
       "      <td>47758.875000</td>\n",
       "      <td>NaN</td>\n",
       "    </tr>\n",
       "    <tr>\n",
       "      <th>2</th>\n",
       "      <td>2008</td>\n",
       "      <td>10273.695312</td>\n",
       "      <td>10113.637575</td>\n",
       "      <td>4408.091797</td>\n",
       "      <td>6155.924339</td>\n",
       "      <td>512.715942</td>\n",
       "      <td>475.289122</td>\n",
       "      <td>47338.687500</td>\n",
       "      <td>NaN</td>\n",
       "    </tr>\n",
       "    <tr>\n",
       "      <th>3</th>\n",
       "      <td>2009</td>\n",
       "      <td>9737.244141</td>\n",
       "      <td>10092.668124</td>\n",
       "      <td>4580.298340</td>\n",
       "      <td>6307.515167</td>\n",
       "      <td>504.140778</td>\n",
       "      <td>486.488060</td>\n",
       "      <td>46371.566406</td>\n",
       "      <td>NaN</td>\n",
       "    </tr>\n",
       "    <tr>\n",
       "      <th>4</th>\n",
       "      <td>2010</td>\n",
       "      <td>9891.227539</td>\n",
       "      <td>10071.698673</td>\n",
       "      <td>5214.490234</td>\n",
       "      <td>6459.105995</td>\n",
       "      <td>519.306824</td>\n",
       "      <td>497.686998</td>\n",
       "      <td>47895.074219</td>\n",
       "      <td>NaN</td>\n",
       "    </tr>\n",
       "  </tbody>\n",
       "</table>\n",
       "</div>"
      ],
      "text/plain": [
       "   Year           USA      USA Pred        China   China Pred   Australia  \\\n",
       "0  2006  11070.909180  10155.576478  4116.769043  5852.742683  493.641815   \n",
       "1  2007  11001.755859  10134.607027  4313.567383  6004.333511  506.270294   \n",
       "2  2008  10273.695312  10113.637575  4408.091797  6155.924339  512.715942   \n",
       "3  2009   9737.244141  10092.668124  4580.298340  6307.515167  504.140778   \n",
       "4  2010   9891.227539  10071.698673  5214.490234  6459.105995  519.306824   \n",
       "\n",
       "     Aus Pred         World  World Pred  \n",
       "0  452.891246  47172.609375         NaN  \n",
       "1  464.090184  47758.875000         NaN  \n",
       "2  475.289122  47338.687500         NaN  \n",
       "3  486.488060  46371.566406         NaN  \n",
       "4  497.686998  47895.074219         NaN  "
      ]
     },
     "execution_count": 25,
     "metadata": {},
     "output_type": "execute_result"
    }
   ],
   "source": [
    "data.head()"
   ]
  },
  {
   "cell_type": "code",
   "execution_count": 28,
   "id": "4164d154",
   "metadata": {},
   "outputs": [
    {
     "data": {
      "text/plain": [
       "<matplotlib.legend.Legend at 0x275dce7ed60>"
      ]
     },
     "execution_count": 28,
     "metadata": {},
     "output_type": "execute_result"
    },
    {
     "data": {
      "image/png": "[encoded data removed]",
      "text/plain": [
       "<Figure size 1872x360 with 1 Axes>"
      ]
     },
     "metadata": {
      "needs_background": "light"
     },
     "output_type": "display_data"
    }
   ],
   "source": [
    "plt.figure(figsize=(26,5))\n",
    "plt.scatter(data.Year, data.Australia)\n",
    "plt.scatter(data.Year,data['Aus Pred'])\n",
    "plt.xlabel(\"Year\")\n",
    "plt.ylabel(\"Oil Consumption in TWh\")\n",
    "plt.title(\"Australia Actual Consumption vs Predicted Consumption\")\n",
    "plt.legend([\"Actual\",'Predicted'], loc=0)"
   ]
  },
  {
   "cell_type": "code",
   "execution_count": null,
   "id": "89cd9d54",
   "metadata": {},
   "outputs": [],
   "source": []
  }
 ],
 "metadata": {
  "kernelspec": {
   "display_name": "Python 3 (ipykernel)",
   "language": "python",
   "name": "python3"
  },
  "language_info": {
   "codemirror_mode": {
    "name": "ipython",
    "version": 3
   },
   "file_extension": ".py",
   "mimetype": "text/x-python",
   "name": "python",
   "nbconvert_exporter": "python",
   "pygments_lexer": "ipython3",
   "version": "3.8.8"
  }
 },
 "nbformat": 4,
 "nbformat_minor": 5
}
