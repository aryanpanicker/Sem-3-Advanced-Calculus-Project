{
 "cells": [
  {
   "cell_type": "code",
   "execution_count": 1,
   "id": "9d568e71",
   "metadata": {},
   "outputs": [],
   "source": [
    "import pandas as pd\n",
    "import numpy as np\n",
    "import matplotlib.pyplot as plt\n",
    "%matplotlib inline"
   ]
  },
  {
   "cell_type": "code",
   "execution_count": 2,
   "id": "17295ebf",
   "metadata": {},
   "outputs": [],
   "source": [
    "data=pd.read_excel(\"WOC training.xlsx\")"
   ]
  },
  {
   "cell_type": "code",
   "execution_count": 3,
   "id": "33b9934c",
   "metadata": {},
   "outputs": [
    {
     "data": {
      "text/html": [
       "<div>\n",
       "<style scoped>\n",
       "    .dataframe tbody tr th:only-of-type {\n",
       "        vertical-align: middle;\n",
       "    }\n",
       "\n",
       "    .dataframe tbody tr th {\n",
       "        vertical-align: top;\n",
       "    }\n",
       "\n",
       "    .dataframe thead th {\n",
       "        text-align: right;\n",
       "    }\n",
       "</style>\n",
       "<table border=\"1\" class=\"dataframe\">\n",
       "  <thead>\n",
       "    <tr style=\"text-align: right;\">\n",
       "      <th></th>\n",
       "      <th>Year</th>\n",
       "      <th>USA</th>\n",
       "      <th>China</th>\n",
       "      <th>Australia</th>\n",
       "      <th>World</th>\n",
       "    </tr>\n",
       "  </thead>\n",
       "  <tbody>\n",
       "    <tr>\n",
       "      <th>0</th>\n",
       "      <td>1965</td>\n",
       "      <td>6414.477051</td>\n",
       "      <td>129.062531</td>\n",
       "      <td>200.019363</td>\n",
       "      <td>17989.603516</td>\n",
       "    </tr>\n",
       "    <tr>\n",
       "      <th>1</th>\n",
       "      <td>1966</td>\n",
       "      <td>6731.245117</td>\n",
       "      <td>165.799911</td>\n",
       "      <td>214.047546</td>\n",
       "      <td>19341.146484</td>\n",
       "    </tr>\n",
       "    <tr>\n",
       "      <th>2</th>\n",
       "      <td>1967</td>\n",
       "      <td>6988.793945</td>\n",
       "      <td>163.692841</td>\n",
       "      <td>234.387772</td>\n",
       "      <td>20732.136719</td>\n",
       "    </tr>\n",
       "    <tr>\n",
       "      <th>3</th>\n",
       "      <td>1968</td>\n",
       "      <td>7457.960938</td>\n",
       "      <td>179.034576</td>\n",
       "      <td>255.284988</td>\n",
       "      <td>22488.332031</td>\n",
       "    </tr>\n",
       "    <tr>\n",
       "      <th>4</th>\n",
       "      <td>1969</td>\n",
       "      <td>7831.837891</td>\n",
       "      <td>240.044327</td>\n",
       "      <td>262.448120</td>\n",
       "      <td>24353.000000</td>\n",
       "    </tr>\n",
       "  </tbody>\n",
       "</table>\n",
       "</div>"
      ],
      "text/plain": [
       "   Year          USA       China   Australia         World\n",
       "0  1965  6414.477051  129.062531  200.019363  17989.603516\n",
       "1  1966  6731.245117  165.799911  214.047546  19341.146484\n",
       "2  1967  6988.793945  163.692841  234.387772  20732.136719\n",
       "3  1968  7457.960938  179.034576  255.284988  22488.332031\n",
       "4  1969  7831.837891  240.044327  262.448120  24353.000000"
      ]
     },
     "execution_count": 3,
     "metadata": {},
     "output_type": "execute_result"
    }
   ],
   "source": [
    "data.head()"
   ]
  },
  {
   "cell_type": "code",
   "execution_count": 4,
   "id": "dc435cdd",
   "metadata": {},
   "outputs": [
    {
     "data": {
      "text/html": [
       "<div>\n",
       "<style scoped>\n",
       "    .dataframe tbody tr th:only-of-type {\n",
       "        vertical-align: middle;\n",
       "    }\n",
       "\n",
       "    .dataframe tbody tr th {\n",
       "        vertical-align: top;\n",
       "    }\n",
       "\n",
       "    .dataframe thead th {\n",
       "        text-align: right;\n",
       "    }\n",
       "</style>\n",
       "<table border=\"1\" class=\"dataframe\">\n",
       "  <thead>\n",
       "    <tr style=\"text-align: right;\">\n",
       "      <th></th>\n",
       "      <th>Year</th>\n",
       "      <th>USA</th>\n",
       "      <th>China</th>\n",
       "      <th>Australia</th>\n",
       "      <th>World</th>\n",
       "    </tr>\n",
       "  </thead>\n",
       "  <tbody>\n",
       "    <tr>\n",
       "      <th>count</th>\n",
       "      <td>41.000000</td>\n",
       "      <td>41.000000</td>\n",
       "      <td>41.000000</td>\n",
       "      <td>41.000000</td>\n",
       "      <td>41.000000</td>\n",
       "    </tr>\n",
       "    <tr>\n",
       "      <th>mean</th>\n",
       "      <td>1985.000000</td>\n",
       "      <td>9301.646187</td>\n",
       "      <td>1370.615776</td>\n",
       "      <td>364.393897</td>\n",
       "      <td>35066.132241</td>\n",
       "    </tr>\n",
       "    <tr>\n",
       "      <th>std</th>\n",
       "      <td>11.979149</td>\n",
       "      <td>1157.809296</td>\n",
       "      <td>966.514212</td>\n",
       "      <td>71.123458</td>\n",
       "      <td>7070.032967</td>\n",
       "    </tr>\n",
       "    <tr>\n",
       "      <th>min</th>\n",
       "      <td>1965.000000</td>\n",
       "      <td>6414.477051</td>\n",
       "      <td>129.062531</td>\n",
       "      <td>200.019363</td>\n",
       "      <td>17989.603516</td>\n",
       "    </tr>\n",
       "    <tr>\n",
       "      <th>25%</th>\n",
       "      <td>1975.000000</td>\n",
       "      <td>8573.317383</td>\n",
       "      <td>804.078247</td>\n",
       "      <td>330.978943</td>\n",
       "      <td>32534.806641</td>\n",
       "    </tr>\n",
       "    <tr>\n",
       "      <th>50%</th>\n",
       "      <td>1985.000000</td>\n",
       "      <td>9376.044922</td>\n",
       "      <td>1076.636841</td>\n",
       "      <td>362.620819</td>\n",
       "      <td>35514.421875</td>\n",
       "    </tr>\n",
       "    <tr>\n",
       "      <th>75%</th>\n",
       "      <td>1995.000000</td>\n",
       "      <td>10251.112305</td>\n",
       "      <td>1825.630737</td>\n",
       "      <td>427.777496</td>\n",
       "      <td>39442.175781</td>\n",
       "    </tr>\n",
       "    <tr>\n",
       "      <th>max</th>\n",
       "      <td>2005.000000</td>\n",
       "      <td>11214.078125</td>\n",
       "      <td>3838.487061</td>\n",
       "      <td>478.701874</td>\n",
       "      <td>46672.656250</td>\n",
       "    </tr>\n",
       "  </tbody>\n",
       "</table>\n",
       "</div>"
      ],
      "text/plain": [
       "              Year           USA        China   Australia         World\n",
       "count    41.000000     41.000000    41.000000   41.000000     41.000000\n",
       "mean   1985.000000   9301.646187  1370.615776  364.393897  35066.132241\n",
       "std      11.979149   1157.809296   966.514212   71.123458   7070.032967\n",
       "min    1965.000000   6414.477051   129.062531  200.019363  17989.603516\n",
       "25%    1975.000000   8573.317383   804.078247  330.978943  32534.806641\n",
       "50%    1985.000000   9376.044922  1076.636841  362.620819  35514.421875\n",
       "75%    1995.000000  10251.112305  1825.630737  427.777496  39442.175781\n",
       "max    2005.000000  11214.078125  3838.487061  478.701874  46672.656250"
      ]
     },
     "execution_count": 4,
     "metadata": {},
     "output_type": "execute_result"
    }
   ],
   "source": [
    "data.describe()"
   ]
  },
  {
   "cell_type": "code",
   "execution_count": 5,
   "id": "7c4cf668",
   "metadata": {},
   "outputs": [
    {
     "name": "stdout",
     "output_type": "stream",
     "text": [
      "<class 'pandas.core.frame.DataFrame'>\n",
      "RangeIndex: 41 entries, 0 to 40\n",
      "Data columns (total 5 columns):\n",
      " #   Column     Non-Null Count  Dtype  \n",
      "---  ------     --------------  -----  \n",
      " 0   Year       41 non-null     int64  \n",
      " 1   USA        41 non-null     float64\n",
      " 2   China      41 non-null     float64\n",
      " 3   Australia  41 non-null     float64\n",
      " 4   World      41 non-null     float64\n",
      "dtypes: float64(4), int64(1)\n",
      "memory usage: 1.7 KB\n"
     ]
    }
   ],
   "source": [
    "data.info()"
   ]
  },
  {
   "cell_type": "code",
   "execution_count": 7,
   "id": "8c5ac5a8",
   "metadata": {},
   "outputs": [],
   "source": [
    "X=data.Year.values\n",
    "y=data.World.values"
   ]
  },
  {
   "cell_type": "code",
   "execution_count": 8,
   "id": "296117ca",
   "metadata": {},
   "outputs": [],
   "source": [
    "from sklearn.linear_model import LinearRegression\n",
    "from sklearn.model_selection import train_test_split"
   ]
  },
  {
   "cell_type": "code",
   "execution_count": 27,
   "id": "c062d80c",
   "metadata": {},
   "outputs": [],
   "source": [
    "X_train, X_test, y_train, y_test= train_test_split(X,y, train_size=0.75)\n",
    "X_train=X_train.reshape(-1,1)\n",
    "X_test=X_test.reshape(-1,1)"
   ]
  },
  {
   "cell_type": "code",
   "execution_count": 28,
   "id": "ee57d271",
   "metadata": {},
   "outputs": [],
   "source": [
    "model=LinearRegression()"
   ]
  },
  {
   "cell_type": "code",
   "execution_count": 29,
   "id": "6fef526f",
   "metadata": {},
   "outputs": [
    {
     "data": {
      "text/plain": [
       "LinearRegression()"
      ]
     },
     "execution_count": 29,
     "metadata": {},
     "output_type": "execute_result"
    }
   ],
   "source": [
    "model.fit(X_train,y_train)"
   ]
  },
  {
   "cell_type": "code",
   "execution_count": 30,
   "id": "5740f282",
   "metadata": {},
   "outputs": [],
   "source": [
    "y_predicted=model.predict(X_test)"
   ]
  },
  {
   "cell_type": "code",
   "execution_count": 31,
   "id": "d4e5c34f",
   "metadata": {},
   "outputs": [
    {
     "data": {
      "text/plain": [
       "0.8878107602470905"
      ]
     },
     "execution_count": 31,
     "metadata": {},
     "output_type": "execute_result"
    }
   ],
   "source": [
    "model.score(X_test, y_test)"
   ]
  },
  {
   "cell_type": "code",
   "execution_count": 39,
   "id": "3bead9ad",
   "metadata": {},
   "outputs": [],
   "source": [
    "df=pd.read_excel(\"WOC testing.xlsx\")"
   ]
  },
  {
   "cell_type": "code",
   "execution_count": 33,
   "id": "157bda43",
   "metadata": {},
   "outputs": [
    {
     "data": {
      "text/html": [
       "<div>\n",
       "<style scoped>\n",
       "    .dataframe tbody tr th:only-of-type {\n",
       "        vertical-align: middle;\n",
       "    }\n",
       "\n",
       "    .dataframe tbody tr th {\n",
       "        vertical-align: top;\n",
       "    }\n",
       "\n",
       "    .dataframe thead th {\n",
       "        text-align: right;\n",
       "    }\n",
       "</style>\n",
       "<table border=\"1\" class=\"dataframe\">\n",
       "  <thead>\n",
       "    <tr style=\"text-align: right;\">\n",
       "      <th></th>\n",
       "      <th>Year</th>\n",
       "      <th>USA</th>\n",
       "      <th>USA Pred</th>\n",
       "      <th>China</th>\n",
       "      <th>China Pred</th>\n",
       "      <th>Australia</th>\n",
       "      <th>Aus Pred</th>\n",
       "      <th>World</th>\n",
       "      <th>World Pred</th>\n",
       "    </tr>\n",
       "  </thead>\n",
       "  <tbody>\n",
       "    <tr>\n",
       "      <th>0</th>\n",
       "      <td>2006</td>\n",
       "      <td>11070.909180</td>\n",
       "      <td>10155.576478</td>\n",
       "      <td>4116.769043</td>\n",
       "      <td>5852.742683</td>\n",
       "      <td>493.641815</td>\n",
       "      <td>452.891246</td>\n",
       "      <td>47172.609375</td>\n",
       "      <td>NaN</td>\n",
       "    </tr>\n",
       "    <tr>\n",
       "      <th>1</th>\n",
       "      <td>2007</td>\n",
       "      <td>11001.755859</td>\n",
       "      <td>10134.607027</td>\n",
       "      <td>4313.567383</td>\n",
       "      <td>6004.333511</td>\n",
       "      <td>506.270294</td>\n",
       "      <td>464.090184</td>\n",
       "      <td>47758.875000</td>\n",
       "      <td>NaN</td>\n",
       "    </tr>\n",
       "    <tr>\n",
       "      <th>2</th>\n",
       "      <td>2008</td>\n",
       "      <td>10273.695312</td>\n",
       "      <td>10113.637575</td>\n",
       "      <td>4408.091797</td>\n",
       "      <td>6155.924339</td>\n",
       "      <td>512.715942</td>\n",
       "      <td>475.289122</td>\n",
       "      <td>47338.687500</td>\n",
       "      <td>NaN</td>\n",
       "    </tr>\n",
       "    <tr>\n",
       "      <th>3</th>\n",
       "      <td>2009</td>\n",
       "      <td>9737.244141</td>\n",
       "      <td>10092.668124</td>\n",
       "      <td>4580.298340</td>\n",
       "      <td>6307.515167</td>\n",
       "      <td>504.140778</td>\n",
       "      <td>486.488060</td>\n",
       "      <td>46371.566406</td>\n",
       "      <td>NaN</td>\n",
       "    </tr>\n",
       "    <tr>\n",
       "      <th>4</th>\n",
       "      <td>2010</td>\n",
       "      <td>9891.227539</td>\n",
       "      <td>10071.698673</td>\n",
       "      <td>5214.490234</td>\n",
       "      <td>6459.105995</td>\n",
       "      <td>519.306824</td>\n",
       "      <td>497.686998</td>\n",
       "      <td>47895.074219</td>\n",
       "      <td>NaN</td>\n",
       "    </tr>\n",
       "  </tbody>\n",
       "</table>\n",
       "</div>"
      ],
      "text/plain": [
       "   Year           USA      USA Pred        China   China Pred   Australia  \\\n",
       "0  2006  11070.909180  10155.576478  4116.769043  5852.742683  493.641815   \n",
       "1  2007  11001.755859  10134.607027  4313.567383  6004.333511  506.270294   \n",
       "2  2008  10273.695312  10113.637575  4408.091797  6155.924339  512.715942   \n",
       "3  2009   9737.244141  10092.668124  4580.298340  6307.515167  504.140778   \n",
       "4  2010   9891.227539  10071.698673  5214.490234  6459.105995  519.306824   \n",
       "\n",
       "     Aus Pred         World  World Pred  \n",
       "0  452.891246  47172.609375         NaN  \n",
       "1  464.090184  47758.875000         NaN  \n",
       "2  475.289122  47338.687500         NaN  \n",
       "3  486.488060  46371.566406         NaN  \n",
       "4  497.686998  47895.074219         NaN  "
      ]
     },
     "execution_count": 33,
     "metadata": {},
     "output_type": "execute_result"
    }
   ],
   "source": [
    "df.head()"
   ]
  },
  {
   "cell_type": "code",
   "execution_count": 34,
   "id": "250e122c",
   "metadata": {},
   "outputs": [],
   "source": [
    "a=df.Year.values\n",
    "a=a.reshape(-1,1)\n",
    "b=df.World.values"
   ]
  },
  {
   "cell_type": "code",
   "execution_count": 35,
   "id": "ab1c0147",
   "metadata": {},
   "outputs": [],
   "source": [
    "y_pred=model.predict(a)"
   ]
  },
  {
   "cell_type": "code",
   "execution_count": 36,
   "id": "6db7265a",
   "metadata": {},
   "outputs": [
    {
     "data": {
      "text/plain": [
       "0.1638793346793549"
      ]
     },
     "execution_count": 36,
     "metadata": {},
     "output_type": "execute_result"
    }
   ],
   "source": [
    "model.score(a,b)"
   ]
  },
  {
   "cell_type": "code",
   "execution_count": 37,
   "id": "e6add115",
   "metadata": {},
   "outputs": [
    {
     "data": {
      "text/plain": [
       "[<matplotlib.lines.Line2D at 0x1aceabb3af0>]"
      ]
     },
     "execution_count": 37,
     "metadata": {},
     "output_type": "execute_result"
    },
    {
     "data": {
      "image/png": "[encoded data removed]",
      "text/plain": [
       "<Figure size 432x288 with 1 Axes>"
      ]
     },
     "metadata": {
      "needs_background": "light"
     },
     "output_type": "display_data"
    }
   ],
   "source": [
    "plt.plot(a,b)\n",
    "plt.plot(a,y_pred)"
   ]
  },
  {
   "cell_type": "code",
   "execution_count": 38,
   "id": "c4ac874d",
   "metadata": {},
   "outputs": [
    {
     "data": {
      "text/plain": [
       "array([46723.99577746, 47274.49628457, 47824.99679168, 48375.4972988 ,\n",
       "       48925.99780591, 49476.49831302, 50026.99882013, 50577.49932724,\n",
       "       51127.99983435, 51678.50034146, 52229.00084857, 52779.50135568,\n",
       "       53330.00186279, 53880.5023699 , 54431.00287701, 54981.50338413])"
      ]
     },
     "execution_count": 38,
     "metadata": {},
     "output_type": "execute_result"
    }
   ],
   "source": [
    "y_pred"
   ]
  },
  {
   "cell_type": "code",
   "execution_count": 40,
   "id": "25dd463e",
   "metadata": {},
   "outputs": [
    {
     "data": {
      "text/html": [
       "<div>\n",
       "<style scoped>\n",
       "    .dataframe tbody tr th:only-of-type {\n",
       "        vertical-align: middle;\n",
       "    }\n",
       "\n",
       "    .dataframe tbody tr th {\n",
       "        vertical-align: top;\n",
       "    }\n",
       "\n",
       "    .dataframe thead th {\n",
       "        text-align: right;\n",
       "    }\n",
       "</style>\n",
       "<table border=\"1\" class=\"dataframe\">\n",
       "  <thead>\n",
       "    <tr style=\"text-align: right;\">\n",
       "      <th></th>\n",
       "      <th>Year</th>\n",
       "      <th>USA</th>\n",
       "      <th>USA Pred</th>\n",
       "      <th>China</th>\n",
       "      <th>China Pred</th>\n",
       "      <th>Australia</th>\n",
       "      <th>Aus Pred</th>\n",
       "      <th>World</th>\n",
       "      <th>World Pred</th>\n",
       "    </tr>\n",
       "  </thead>\n",
       "  <tbody>\n",
       "    <tr>\n",
       "      <th>0</th>\n",
       "      <td>2006</td>\n",
       "      <td>11070.909180</td>\n",
       "      <td>10155.576478</td>\n",
       "      <td>4116.769043</td>\n",
       "      <td>5852.742683</td>\n",
       "      <td>493.641815</td>\n",
       "      <td>452.891246</td>\n",
       "      <td>47172.609375</td>\n",
       "      <td>46723.995777</td>\n",
       "    </tr>\n",
       "    <tr>\n",
       "      <th>1</th>\n",
       "      <td>2007</td>\n",
       "      <td>11001.755859</td>\n",
       "      <td>10134.607027</td>\n",
       "      <td>4313.567383</td>\n",
       "      <td>6004.333511</td>\n",
       "      <td>506.270294</td>\n",
       "      <td>464.090184</td>\n",
       "      <td>47758.875000</td>\n",
       "      <td>47274.496285</td>\n",
       "    </tr>\n",
       "    <tr>\n",
       "      <th>2</th>\n",
       "      <td>2008</td>\n",
       "      <td>10273.695312</td>\n",
       "      <td>10113.637575</td>\n",
       "      <td>4408.091797</td>\n",
       "      <td>6155.924339</td>\n",
       "      <td>512.715942</td>\n",
       "      <td>475.289122</td>\n",
       "      <td>47338.687500</td>\n",
       "      <td>47824.996792</td>\n",
       "    </tr>\n",
       "    <tr>\n",
       "      <th>3</th>\n",
       "      <td>2009</td>\n",
       "      <td>9737.244141</td>\n",
       "      <td>10092.668124</td>\n",
       "      <td>4580.298340</td>\n",
       "      <td>6307.515167</td>\n",
       "      <td>504.140778</td>\n",
       "      <td>486.488060</td>\n",
       "      <td>46371.566406</td>\n",
       "      <td>48375.497299</td>\n",
       "    </tr>\n",
       "    <tr>\n",
       "      <th>4</th>\n",
       "      <td>2010</td>\n",
       "      <td>9891.227539</td>\n",
       "      <td>10071.698673</td>\n",
       "      <td>5214.490234</td>\n",
       "      <td>6459.105995</td>\n",
       "      <td>519.306824</td>\n",
       "      <td>497.686998</td>\n",
       "      <td>47895.074219</td>\n",
       "      <td>48925.997806</td>\n",
       "    </tr>\n",
       "  </tbody>\n",
       "</table>\n",
       "</div>"
      ],
      "text/plain": [
       "   Year           USA      USA Pred        China   China Pred   Australia  \\\n",
       "0  2006  11070.909180  10155.576478  4116.769043  5852.742683  493.641815   \n",
       "1  2007  11001.755859  10134.607027  4313.567383  6004.333511  506.270294   \n",
       "2  2008  10273.695312  10113.637575  4408.091797  6155.924339  512.715942   \n",
       "3  2009   9737.244141  10092.668124  4580.298340  6307.515167  504.140778   \n",
       "4  2010   9891.227539  10071.698673  5214.490234  6459.105995  519.306824   \n",
       "\n",
       "     Aus Pred         World    World Pred  \n",
       "0  452.891246  47172.609375  46723.995777  \n",
       "1  464.090184  47758.875000  47274.496285  \n",
       "2  475.289122  47338.687500  47824.996792  \n",
       "3  486.488060  46371.566406  48375.497299  \n",
       "4  497.686998  47895.074219  48925.997806  "
      ]
     },
     "execution_count": 40,
     "metadata": {},
     "output_type": "execute_result"
    }
   ],
   "source": [
    "df.head()"
   ]
  },
  {
   "cell_type": "code",
   "execution_count": 42,
   "id": "08ab9dc5",
   "metadata": {},
   "outputs": [
    {
     "data": {
      "text/plain": [
       "<matplotlib.legend.Legend at 0x1aceac6e4f0>"
      ]
     },
     "execution_count": 42,
     "metadata": {},
     "output_type": "execute_result"
    },
    {
     "data": {
      "image/png": "[encoded data removed]",
      "text/plain": [
       "<Figure size 1872x360 with 1 Axes>"
      ]
     },
     "metadata": {
      "needs_background": "light"
     },
     "output_type": "display_data"
    }
   ],
   "source": [
    "plt.figure(figsize=(26,5))\n",
    "plt.scatter(df.Year, df.World)\n",
    "plt.scatter(df.Year,df['World Pred'])\n",
    "plt.xlabel(\"Year\")\n",
    "plt.ylabel(\"Oil Consumption in TWh\")\n",
    "plt.title(\"World Actual Consumption vs Predicted Consumption\")\n",
    "plt.legend([\"Actual\",'Predicted'], loc=0)"
   ]
  },
  {
   "cell_type": "code",
   "execution_count": null,
   "id": "c6c62987",
   "metadata": {},
   "outputs": [],
   "source": []
  }
 ],
 "metadata": {
  "kernelspec": {
   "display_name": "Python 3 (ipykernel)",
   "language": "python",
   "name": "python3"
  },
  "language_info": {
   "codemirror_mode": {
    "name": "ipython",
    "version": 3
   },
   "file_extension": ".py",
   "mimetype": "text/x-python",
   "name": "python",
   "nbconvert_exporter": "python",
   "pygments_lexer": "ipython3",
   "version": "3.8.8"
  }
 },
 "nbformat": 4,
 "nbformat_minor": 5
}
