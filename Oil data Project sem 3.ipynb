{
 "cells": [
  {
   "cell_type": "code",
   "execution_count": 9,
   "id": "cad40d43",
   "metadata": {},
   "outputs": [],
   "source": [
    "import pandas as pd\n",
    "import numpy as np\n",
    "import matplotlib.pyplot as plt\n",
    "%matplotlib inline"
   ]
  },
  {
   "cell_type": "code",
   "execution_count": 10,
   "id": "1b7a8457",
   "metadata": {},
   "outputs": [
    {
     "data": {
      "text/html": [
       "<div>\n",
       "<style scoped>\n",
       "    .dataframe tbody tr th:only-of-type {\n",
       "        vertical-align: middle;\n",
       "    }\n",
       "\n",
       "    .dataframe tbody tr th {\n",
       "        vertical-align: top;\n",
       "    }\n",
       "\n",
       "    .dataframe thead th {\n",
       "        text-align: right;\n",
       "    }\n",
       "</style>\n",
       "<table border=\"1\" class=\"dataframe\">\n",
       "  <thead>\n",
       "    <tr style=\"text-align: right;\">\n",
       "      <th></th>\n",
       "      <th>Year</th>\n",
       "      <th>USA</th>\n",
       "      <th>China</th>\n",
       "      <th>Australia</th>\n",
       "      <th>World</th>\n",
       "    </tr>\n",
       "  </thead>\n",
       "  <tbody>\n",
       "    <tr>\n",
       "      <th>0</th>\n",
       "      <td>1965</td>\n",
       "      <td>6414.477051</td>\n",
       "      <td>129.062531</td>\n",
       "      <td>200.019363</td>\n",
       "      <td>17989.603516</td>\n",
       "    </tr>\n",
       "    <tr>\n",
       "      <th>1</th>\n",
       "      <td>1966</td>\n",
       "      <td>6731.245117</td>\n",
       "      <td>165.799911</td>\n",
       "      <td>214.047546</td>\n",
       "      <td>19341.146484</td>\n",
       "    </tr>\n",
       "    <tr>\n",
       "      <th>2</th>\n",
       "      <td>1967</td>\n",
       "      <td>6988.793945</td>\n",
       "      <td>163.692841</td>\n",
       "      <td>234.387772</td>\n",
       "      <td>20732.136719</td>\n",
       "    </tr>\n",
       "    <tr>\n",
       "      <th>3</th>\n",
       "      <td>1968</td>\n",
       "      <td>7457.960938</td>\n",
       "      <td>179.034576</td>\n",
       "      <td>255.284988</td>\n",
       "      <td>22488.332031</td>\n",
       "    </tr>\n",
       "    <tr>\n",
       "      <th>4</th>\n",
       "      <td>1969</td>\n",
       "      <td>7831.837891</td>\n",
       "      <td>240.044327</td>\n",
       "      <td>262.448120</td>\n",
       "      <td>24353.000000</td>\n",
       "    </tr>\n",
       "  </tbody>\n",
       "</table>\n",
       "</div>"
      ],
      "text/plain": [
       "   Year          USA       China   Australia         World\n",
       "0  1965  6414.477051  129.062531  200.019363  17989.603516\n",
       "1  1966  6731.245117  165.799911  214.047546  19341.146484\n",
       "2  1967  6988.793945  163.692841  234.387772  20732.136719\n",
       "3  1968  7457.960938  179.034576  255.284988  22488.332031\n",
       "4  1969  7831.837891  240.044327  262.448120  24353.000000"
      ]
     },
     "execution_count": 10,
     "metadata": {},
     "output_type": "execute_result"
    }
   ],
   "source": [
    "data=pd.read_excel(\"World Oil Consumption Data.xlsx\")\n",
    "data.head()"
   ]
  },
  {
   "cell_type": "code",
   "execution_count": 11,
   "id": "c082d90d",
   "metadata": {},
   "outputs": [
    {
     "data": {
      "text/html": [
       "<div>\n",
       "<style scoped>\n",
       "    .dataframe tbody tr th:only-of-type {\n",
       "        vertical-align: middle;\n",
       "    }\n",
       "\n",
       "    .dataframe tbody tr th {\n",
       "        vertical-align: top;\n",
       "    }\n",
       "\n",
       "    .dataframe thead th {\n",
       "        text-align: right;\n",
       "    }\n",
       "</style>\n",
       "<table border=\"1\" class=\"dataframe\">\n",
       "  <thead>\n",
       "    <tr style=\"text-align: right;\">\n",
       "      <th></th>\n",
       "      <th>Year</th>\n",
       "      <th>USA</th>\n",
       "      <th>China</th>\n",
       "      <th>Australia</th>\n",
       "      <th>World</th>\n",
       "    </tr>\n",
       "  </thead>\n",
       "  <tbody>\n",
       "    <tr>\n",
       "      <th>count</th>\n",
       "      <td>57.000000</td>\n",
       "      <td>57.000000</td>\n",
       "      <td>57.000000</td>\n",
       "      <td>57.000000</td>\n",
       "      <td>57.000000</td>\n",
       "    </tr>\n",
       "    <tr>\n",
       "      <th>mean</th>\n",
       "      <td>1993.000000</td>\n",
       "      <td>9494.201061</td>\n",
       "      <td>2710.070256</td>\n",
       "      <td>416.717077</td>\n",
       "      <td>39160.740543</td>\n",
       "    </tr>\n",
       "    <tr>\n",
       "      <th>std</th>\n",
       "      <td>16.598193</td>\n",
       "      <td>1061.525891</td>\n",
       "      <td>2426.909888</td>\n",
       "      <td>105.574082</td>\n",
       "      <td>8988.199100</td>\n",
       "    </tr>\n",
       "    <tr>\n",
       "      <th>min</th>\n",
       "      <td>1965.000000</td>\n",
       "      <td>6414.477051</td>\n",
       "      <td>129.062531</td>\n",
       "      <td>200.019363</td>\n",
       "      <td>17989.603516</td>\n",
       "    </tr>\n",
       "    <tr>\n",
       "      <th>25%</th>\n",
       "      <td>1979.000000</td>\n",
       "      <td>9049.838867</td>\n",
       "      <td>930.099243</td>\n",
       "      <td>348.104523</td>\n",
       "      <td>33680.054688</td>\n",
       "    </tr>\n",
       "    <tr>\n",
       "      <th>50%</th>\n",
       "      <td>1993.000000</td>\n",
       "      <td>9627.552734</td>\n",
       "      <td>1663.776123</td>\n",
       "      <td>385.914795</td>\n",
       "      <td>38151.847656</td>\n",
       "    </tr>\n",
       "    <tr>\n",
       "      <th>75%</th>\n",
       "      <td>2007.000000</td>\n",
       "      <td>10257.833984</td>\n",
       "      <td>4313.567383</td>\n",
       "      <td>504.140778</td>\n",
       "      <td>47172.609375</td>\n",
       "    </tr>\n",
       "    <tr>\n",
       "      <th>max</th>\n",
       "      <td>2021.000000</td>\n",
       "      <td>11214.078125</td>\n",
       "      <td>8499.583008</td>\n",
       "      <td>610.111206</td>\n",
       "      <td>53368.628906</td>\n",
       "    </tr>\n",
       "  </tbody>\n",
       "</table>\n",
       "</div>"
      ],
      "text/plain": [
       "              Year           USA        China   Australia         World\n",
       "count    57.000000     57.000000    57.000000   57.000000     57.000000\n",
       "mean   1993.000000   9494.201061  2710.070256  416.717077  39160.740543\n",
       "std      16.598193   1061.525891  2426.909888  105.574082   8988.199100\n",
       "min    1965.000000   6414.477051   129.062531  200.019363  17989.603516\n",
       "25%    1979.000000   9049.838867   930.099243  348.104523  33680.054688\n",
       "50%    1993.000000   9627.552734  1663.776123  385.914795  38151.847656\n",
       "75%    2007.000000  10257.833984  4313.567383  504.140778  47172.609375\n",
       "max    2021.000000  11214.078125  8499.583008  610.111206  53368.628906"
      ]
     },
     "execution_count": 11,
     "metadata": {},
     "output_type": "execute_result"
    }
   ],
   "source": [
    "data.describe()"
   ]
  },
  {
   "cell_type": "code",
   "execution_count": 307,
   "id": "0e27bc9a",
   "metadata": {},
   "outputs": [
    {
     "data": {
      "text/plain": [
       "Text(0, 0.5, 'Consumption in TWh')"
      ]
     },
     "execution_count": 307,
     "metadata": {},
     "output_type": "execute_result"
    },
    {
     "data": {
      "image/png": "[encoded data removed]",
      "text/plain": [
       "<Figure size 432x288 with 1 Axes>"
      ]
     },
     "metadata": {
      "needs_background": "light"
     },
     "output_type": "display_data"
    }
   ],
   "source": [
    "plt.plot(data['Year'],data['World'])\n",
    "plt.title(\"World Oil Consumption 1965-2021\")\n",
    "plt.xlabel(\"Year\")\n",
    "plt.ylabel(\"Consumption in TWh\")"
   ]
  },
  {
   "cell_type": "code",
   "execution_count": 27,
   "id": "7387297e",
   "metadata": {},
   "outputs": [
    {
     "data": {
      "text/plain": [
       "Text(0, 0.5, 'Consumption in TWh')"
      ]
     },
     "execution_count": 27,
     "metadata": {},
     "output_type": "execute_result"
    },
    {
     "data": {
      "image/png": "[encoded data removed]",
      "text/plain": [
       "<Figure size 432x288 with 1 Axes>"
      ]
     },
     "metadata": {
      "needs_background": "light"
     },
     "output_type": "display_data"
    }
   ],
   "source": [
    "plt.plot(data['Year'],data['USA'])\n",
    "plt.title(\"USA Oil Consumption 1965-2021\")\n",
    "plt.xlabel(\"Year\")\n",
    "plt.ylabel(\"Consumption in TWh\")"
   ]
  },
  {
   "cell_type": "code",
   "execution_count": 28,
   "id": "4bb29d00",
   "metadata": {},
   "outputs": [
    {
     "data": {
      "text/plain": [
       "Text(0, 0.5, 'Consumption in TWh')"
      ]
     },
     "execution_count": 28,
     "metadata": {},
     "output_type": "execute_result"
    },
    {
     "data": {
      "image/png": "[encoded data removed]",
      "text/plain": [
       "<Figure size 432x288 with 1 Axes>"
      ]
     },
     "metadata": {
      "needs_background": "light"
     },
     "output_type": "display_data"
    }
   ],
   "source": [
    "plt.plot(data['Year'],data['China'])\n",
    "plt.title(\"China Oil Consumption 1965-2021\")\n",
    "plt.xlabel(\"Year\")\n",
    "plt.ylabel(\"Consumption in TWh\")"
   ]
  },
  {
   "cell_type": "code",
   "execution_count": 29,
   "id": "5d91af9c",
   "metadata": {},
   "outputs": [
    {
     "data": {
      "text/plain": [
       "Text(0, 0.5, 'Consumption in TWh')"
      ]
     },
     "execution_count": 29,
     "metadata": {},
     "output_type": "execute_result"
    },
    {
     "data": {
      "image/png": "[encoded data removed]",
      "text/plain": [
       "<Figure size 432x288 with 1 Axes>"
      ]
     },
     "metadata": {
      "needs_background": "light"
     },
     "output_type": "display_data"
    }
   ],
   "source": [
    "plt.plot(data['Year'],data['Australia'])\n",
    "plt.title(\"Australia Oil Consumption 1965-2021\")\n",
    "plt.xlabel(\"Year\")\n",
    "plt.ylabel(\"Consumption in TWh\")"
   ]
  },
  {
   "cell_type": "code",
   "execution_count": 306,
   "id": "514a1880",
   "metadata": {},
   "outputs": [
    {
     "data": {
      "text/plain": [
       "<matplotlib.legend.Legend at 0x12c04661d30>"
      ]
     },
     "execution_count": 306,
     "metadata": {},
     "output_type": "execute_result"
    },
    {
     "data": {
      "image/png": "[encoded data removed]",
      "text/plain": [
       "<Figure size 432x288 with 1 Axes>"
      ]
     },
     "metadata": {
      "needs_background": "light"
     },
     "output_type": "display_data"
    }
   ],
   "source": [
    "plt.plot(data['Year'],data['USA'], label=\"USA Oil Consumption\")\n",
    "plt.plot(data['Year'],data['China'], label=\"China Oil Consumption\")\n",
    "plt.plot(data['Year'],data['Australia'], label=\"Aus Oil Consumption\")\n",
    "plt.plot(data['Year'],data['World'], label=\"World Oil Consumption\")\n",
    "plt.legend(loc=\"best\")"
   ]
  },
  {
   "cell_type": "code",
   "execution_count": 22,
   "id": "cd171ec1",
   "metadata": {},
   "outputs": [
    {
     "data": {
      "text/html": [
       "<div>\n",
       "<style scoped>\n",
       "    .dataframe tbody tr th:only-of-type {\n",
       "        vertical-align: middle;\n",
       "    }\n",
       "\n",
       "    .dataframe tbody tr th {\n",
       "        vertical-align: top;\n",
       "    }\n",
       "\n",
       "    .dataframe thead th {\n",
       "        text-align: right;\n",
       "    }\n",
       "</style>\n",
       "<table border=\"1\" class=\"dataframe\">\n",
       "  <thead>\n",
       "    <tr style=\"text-align: right;\">\n",
       "      <th></th>\n",
       "      <th>Year</th>\n",
       "      <th>USA</th>\n",
       "      <th>China</th>\n",
       "      <th>Australia</th>\n",
       "      <th>World</th>\n",
       "    </tr>\n",
       "  </thead>\n",
       "  <tbody>\n",
       "    <tr>\n",
       "      <th>36</th>\n",
       "      <td>2001</td>\n",
       "      <td>10636.848633</td>\n",
       "      <td>2683.249268</td>\n",
       "      <td>457.085358</td>\n",
       "      <td>43255.683594</td>\n",
       "    </tr>\n",
       "    <tr>\n",
       "      <th>37</th>\n",
       "      <td>2002</td>\n",
       "      <td>10642.413086</td>\n",
       "      <td>2895.597900</td>\n",
       "      <td>461.974823</td>\n",
       "      <td>43608.863281</td>\n",
       "    </tr>\n",
       "    <tr>\n",
       "      <th>38</th>\n",
       "      <td>2003</td>\n",
       "      <td>10803.682617</td>\n",
       "      <td>3234.762451</td>\n",
       "      <td>460.259918</td>\n",
       "      <td>44580.648438</td>\n",
       "    </tr>\n",
       "    <tr>\n",
       "      <th>39</th>\n",
       "      <td>2004</td>\n",
       "      <td>11197.867188</td>\n",
       "      <td>3777.772217</td>\n",
       "      <td>471.295715</td>\n",
       "      <td>46270.656250</td>\n",
       "    </tr>\n",
       "    <tr>\n",
       "      <th>40</th>\n",
       "      <td>2005</td>\n",
       "      <td>11214.078125</td>\n",
       "      <td>3838.487061</td>\n",
       "      <td>478.701874</td>\n",
       "      <td>46672.656250</td>\n",
       "    </tr>\n",
       "  </tbody>\n",
       "</table>\n",
       "</div>"
      ],
      "text/plain": [
       "    Year           USA        China   Australia         World\n",
       "36  2001  10636.848633  2683.249268  457.085358  43255.683594\n",
       "37  2002  10642.413086  2895.597900  461.974823  43608.863281\n",
       "38  2003  10803.682617  3234.762451  460.259918  44580.648438\n",
       "39  2004  11197.867188  3777.772217  471.295715  46270.656250\n",
       "40  2005  11214.078125  3838.487061  478.701874  46672.656250"
      ]
     },
     "execution_count": 22,
     "metadata": {},
     "output_type": "execute_result"
    }
   ],
   "source": [
    "data2=pd.read_excel(\"WOC training.xlsx\")\n",
    "data2.tail()"
   ]
  },
  {
   "cell_type": "code",
   "execution_count": 24,
   "id": "27ad69a0",
   "metadata": {},
   "outputs": [
    {
     "data": {
      "text/html": [
       "<div>\n",
       "<style scoped>\n",
       "    .dataframe tbody tr th:only-of-type {\n",
       "        vertical-align: middle;\n",
       "    }\n",
       "\n",
       "    .dataframe tbody tr th {\n",
       "        vertical-align: top;\n",
       "    }\n",
       "\n",
       "    .dataframe thead th {\n",
       "        text-align: right;\n",
       "    }\n",
       "</style>\n",
       "<table border=\"1\" class=\"dataframe\">\n",
       "  <thead>\n",
       "    <tr style=\"text-align: right;\">\n",
       "      <th></th>\n",
       "      <th>Year</th>\n",
       "      <th>USA</th>\n",
       "      <th>China</th>\n",
       "      <th>Australia</th>\n",
       "      <th>World</th>\n",
       "    </tr>\n",
       "  </thead>\n",
       "  <tbody>\n",
       "    <tr>\n",
       "      <th>count</th>\n",
       "      <td>41.000000</td>\n",
       "      <td>41.000000</td>\n",
       "      <td>41.000000</td>\n",
       "      <td>41.000000</td>\n",
       "      <td>41.000000</td>\n",
       "    </tr>\n",
       "    <tr>\n",
       "      <th>mean</th>\n",
       "      <td>1985.000000</td>\n",
       "      <td>9301.646187</td>\n",
       "      <td>1370.615776</td>\n",
       "      <td>364.393897</td>\n",
       "      <td>35066.132241</td>\n",
       "    </tr>\n",
       "    <tr>\n",
       "      <th>std</th>\n",
       "      <td>11.979149</td>\n",
       "      <td>1157.809296</td>\n",
       "      <td>966.514212</td>\n",
       "      <td>71.123458</td>\n",
       "      <td>7070.032967</td>\n",
       "    </tr>\n",
       "    <tr>\n",
       "      <th>min</th>\n",
       "      <td>1965.000000</td>\n",
       "      <td>6414.477051</td>\n",
       "      <td>129.062531</td>\n",
       "      <td>200.019363</td>\n",
       "      <td>17989.603516</td>\n",
       "    </tr>\n",
       "    <tr>\n",
       "      <th>25%</th>\n",
       "      <td>1975.000000</td>\n",
       "      <td>8573.317383</td>\n",
       "      <td>804.078247</td>\n",
       "      <td>330.978943</td>\n",
       "      <td>32534.806641</td>\n",
       "    </tr>\n",
       "    <tr>\n",
       "      <th>50%</th>\n",
       "      <td>1985.000000</td>\n",
       "      <td>9376.044922</td>\n",
       "      <td>1076.636841</td>\n",
       "      <td>362.620819</td>\n",
       "      <td>35514.421875</td>\n",
       "    </tr>\n",
       "    <tr>\n",
       "      <th>75%</th>\n",
       "      <td>1995.000000</td>\n",
       "      <td>10251.112305</td>\n",
       "      <td>1825.630737</td>\n",
       "      <td>427.777496</td>\n",
       "      <td>39442.175781</td>\n",
       "    </tr>\n",
       "    <tr>\n",
       "      <th>max</th>\n",
       "      <td>2005.000000</td>\n",
       "      <td>11214.078125</td>\n",
       "      <td>3838.487061</td>\n",
       "      <td>478.701874</td>\n",
       "      <td>46672.656250</td>\n",
       "    </tr>\n",
       "  </tbody>\n",
       "</table>\n",
       "</div>"
      ],
      "text/plain": [
       "              Year           USA        China   Australia         World\n",
       "count    41.000000     41.000000    41.000000   41.000000     41.000000\n",
       "mean   1985.000000   9301.646187  1370.615776  364.393897  35066.132241\n",
       "std      11.979149   1157.809296   966.514212   71.123458   7070.032967\n",
       "min    1965.000000   6414.477051   129.062531  200.019363  17989.603516\n",
       "25%    1975.000000   8573.317383   804.078247  330.978943  32534.806641\n",
       "50%    1985.000000   9376.044922  1076.636841  362.620819  35514.421875\n",
       "75%    1995.000000  10251.112305  1825.630737  427.777496  39442.175781\n",
       "max    2005.000000  11214.078125  3838.487061  478.701874  46672.656250"
      ]
     },
     "execution_count": 24,
     "metadata": {},
     "output_type": "execute_result"
    }
   ],
   "source": [
    "data2.describe()"
   ]
  },
  {
   "cell_type": "code",
   "execution_count": 26,
   "id": "1fc2367b",
   "metadata": {},
   "outputs": [
    {
     "name": "stdout",
     "output_type": "stream",
     "text": [
      "<class 'pandas.core.frame.DataFrame'>\n",
      "RangeIndex: 41 entries, 0 to 40\n",
      "Data columns (total 5 columns):\n",
      " #   Column     Non-Null Count  Dtype  \n",
      "---  ------     --------------  -----  \n",
      " 0   Year       41 non-null     int64  \n",
      " 1   USA        41 non-null     float64\n",
      " 2   China      41 non-null     float64\n",
      " 3   Australia  41 non-null     float64\n",
      " 4   World      41 non-null     float64\n",
      "dtypes: float64(4), int64(1)\n",
      "memory usage: 1.7 KB\n"
     ]
    }
   ],
   "source": [
    "data2.info()"
   ]
  },
  {
   "cell_type": "code",
   "execution_count": 30,
   "id": "2529c69c",
   "metadata": {},
   "outputs": [],
   "source": [
    "X=data2['Year'].values\n",
    "y=data2['USA'].values"
   ]
  },
  {
   "cell_type": "code",
   "execution_count": 317,
   "id": "2915ec93",
   "metadata": {},
   "outputs": [],
   "source": [
    "from sklearn.linear_model import LinearRegression\n",
    "from sklearn.model_selection import train_test_split"
   ]
  },
  {
   "cell_type": "code",
   "execution_count": 364,
   "id": "a2bd75e0",
   "metadata": {},
   "outputs": [],
   "source": [
    "x_train, x_test, y_train, y_test = train_test_split(X,y, train_size = .75, test_size=0.25)\n",
    "x_train = x_train.reshape(-1,1)\n",
    "x_test = x_test.reshape(-1,1)"
   ]
  },
  {
   "cell_type": "code",
   "execution_count": 365,
   "id": "50992faf",
   "metadata": {},
   "outputs": [],
   "source": [
    "model1=LinearRegression()"
   ]
  },
  {
   "cell_type": "code",
   "execution_count": 366,
   "id": "25cd53af",
   "metadata": {},
   "outputs": [
    {
     "data": {
      "text/plain": [
       "LinearRegression()"
      ]
     },
     "execution_count": 366,
     "metadata": {},
     "output_type": "execute_result"
    }
   ],
   "source": [
    "model1.fit(x_train,y_train)"
   ]
  },
  {
   "cell_type": "code",
   "execution_count": 367,
   "id": "fbf565ca",
   "metadata": {},
   "outputs": [],
   "source": [
    "y_predicted=model1.predict(x_test)"
   ]
  },
  {
   "cell_type": "code",
   "execution_count": 368,
   "id": "585bf64e",
   "metadata": {},
   "outputs": [
    {
     "data": {
      "text/plain": [
       "0.21290083695337436"
      ]
     },
     "execution_count": 368,
     "metadata": {},
     "output_type": "execute_result"
    }
   ],
   "source": [
    "model1.score(x_test,y_test)"
   ]
  },
  {
   "cell_type": "code",
   "execution_count": 323,
   "id": "6d7b15d0",
   "metadata": {},
   "outputs": [
    {
     "data": {
      "text/html": [
       "<div>\n",
       "<style scoped>\n",
       "    .dataframe tbody tr th:only-of-type {\n",
       "        vertical-align: middle;\n",
       "    }\n",
       "\n",
       "    .dataframe tbody tr th {\n",
       "        vertical-align: top;\n",
       "    }\n",
       "\n",
       "    .dataframe thead th {\n",
       "        text-align: right;\n",
       "    }\n",
       "</style>\n",
       "<table border=\"1\" class=\"dataframe\">\n",
       "  <thead>\n",
       "    <tr style=\"text-align: right;\">\n",
       "      <th></th>\n",
       "      <th>Year</th>\n",
       "      <th>USA</th>\n",
       "      <th>USA Pred</th>\n",
       "      <th>China</th>\n",
       "      <th>China Pred</th>\n",
       "      <th>Australia</th>\n",
       "      <th>Aus Pred</th>\n",
       "      <th>World</th>\n",
       "      <th>World Pred</th>\n",
       "    </tr>\n",
       "  </thead>\n",
       "  <tbody>\n",
       "    <tr>\n",
       "      <th>0</th>\n",
       "      <td>2006</td>\n",
       "      <td>11070.909180</td>\n",
       "      <td>10155.576478</td>\n",
       "      <td>4116.769043</td>\n",
       "      <td>NaN</td>\n",
       "      <td>493.641815</td>\n",
       "      <td>NaN</td>\n",
       "      <td>47172.609375</td>\n",
       "      <td>NaN</td>\n",
       "    </tr>\n",
       "    <tr>\n",
       "      <th>1</th>\n",
       "      <td>2007</td>\n",
       "      <td>11001.755859</td>\n",
       "      <td>10134.607027</td>\n",
       "      <td>4313.567383</td>\n",
       "      <td>NaN</td>\n",
       "      <td>506.270294</td>\n",
       "      <td>NaN</td>\n",
       "      <td>47758.875000</td>\n",
       "      <td>NaN</td>\n",
       "    </tr>\n",
       "    <tr>\n",
       "      <th>2</th>\n",
       "      <td>2008</td>\n",
       "      <td>10273.695312</td>\n",
       "      <td>10113.637575</td>\n",
       "      <td>4408.091797</td>\n",
       "      <td>NaN</td>\n",
       "      <td>512.715942</td>\n",
       "      <td>NaN</td>\n",
       "      <td>47338.687500</td>\n",
       "      <td>NaN</td>\n",
       "    </tr>\n",
       "    <tr>\n",
       "      <th>3</th>\n",
       "      <td>2009</td>\n",
       "      <td>9737.244141</td>\n",
       "      <td>10092.668124</td>\n",
       "      <td>4580.298340</td>\n",
       "      <td>NaN</td>\n",
       "      <td>504.140778</td>\n",
       "      <td>NaN</td>\n",
       "      <td>46371.566406</td>\n",
       "      <td>NaN</td>\n",
       "    </tr>\n",
       "    <tr>\n",
       "      <th>4</th>\n",
       "      <td>2010</td>\n",
       "      <td>9891.227539</td>\n",
       "      <td>10071.698673</td>\n",
       "      <td>5214.490234</td>\n",
       "      <td>NaN</td>\n",
       "      <td>519.306824</td>\n",
       "      <td>NaN</td>\n",
       "      <td>47895.074219</td>\n",
       "      <td>NaN</td>\n",
       "    </tr>\n",
       "  </tbody>\n",
       "</table>\n",
       "</div>"
      ],
      "text/plain": [
       "   Year           USA      USA Pred        China  China Pred   Australia  \\\n",
       "0  2006  11070.909180  10155.576478  4116.769043         NaN  493.641815   \n",
       "1  2007  11001.755859  10134.607027  4313.567383         NaN  506.270294   \n",
       "2  2008  10273.695312  10113.637575  4408.091797         NaN  512.715942   \n",
       "3  2009   9737.244141  10092.668124  4580.298340         NaN  504.140778   \n",
       "4  2010   9891.227539  10071.698673  5214.490234         NaN  519.306824   \n",
       "\n",
       "   Aus Pred         World  World Pred  \n",
       "0       NaN  47172.609375         NaN  \n",
       "1       NaN  47758.875000         NaN  \n",
       "2       NaN  47338.687500         NaN  \n",
       "3       NaN  46371.566406         NaN  \n",
       "4       NaN  47895.074219         NaN  "
      ]
     },
     "execution_count": 323,
     "metadata": {},
     "output_type": "execute_result"
    }
   ],
   "source": [
    "df2=pd.read_excel(\"WOC testing.xlsx\")\n",
    "df2.head()"
   ]
  },
  {
   "cell_type": "code",
   "execution_count": 324,
   "id": "fa2878f6",
   "metadata": {},
   "outputs": [],
   "source": [
    "X1=df2['Year'].values\n",
    "X1=X1.reshape(-1,1)\n",
    "y=df2['USA'].values"
   ]
  },
  {
   "cell_type": "code",
   "execution_count": 325,
   "id": "ac7fd6f1",
   "metadata": {},
   "outputs": [],
   "source": [
    "y_pred=model1.predict(X1)"
   ]
  },
  {
   "cell_type": "code",
   "execution_count": 326,
   "id": "dda23922",
   "metadata": {},
   "outputs": [
    {
     "data": {
      "text/plain": [
       "0.1785199223729952"
      ]
     },
     "execution_count": 326,
     "metadata": {},
     "output_type": "execute_result"
    }
   ],
   "source": [
    "model1.score(X1,y)"
   ]
  },
  {
   "cell_type": "code",
   "execution_count": 327,
   "id": "e3f58bc7",
   "metadata": {},
   "outputs": [
    {
     "data": {
      "text/plain": [
       "array([10217.19994724, 10172.41536715, 10127.63078705, 10082.84620695,\n",
       "       10038.06162686,  9993.27704676,  9948.49246667,  9903.70788657,\n",
       "        9858.92330648,  9814.13872638,  9769.35414629,  9724.56956619,\n",
       "        9679.78498609,  9635.000406  ,  9590.2158259 ,  9545.43124581])"
      ]
     },
     "execution_count": 327,
     "metadata": {},
     "output_type": "execute_result"
    }
   ],
   "source": [
    "y_pred"
   ]
  },
  {
   "cell_type": "code",
   "execution_count": 308,
   "id": "b4c5b2d0",
   "metadata": {},
   "outputs": [
    {
     "data": {
      "text/html": [
       "<div>\n",
       "<style scoped>\n",
       "    .dataframe tbody tr th:only-of-type {\n",
       "        vertical-align: middle;\n",
       "    }\n",
       "\n",
       "    .dataframe tbody tr th {\n",
       "        vertical-align: top;\n",
       "    }\n",
       "\n",
       "    .dataframe thead th {\n",
       "        text-align: right;\n",
       "    }\n",
       "</style>\n",
       "<table border=\"1\" class=\"dataframe\">\n",
       "  <thead>\n",
       "    <tr style=\"text-align: right;\">\n",
       "      <th></th>\n",
       "      <th>Year</th>\n",
       "      <th>USA</th>\n",
       "      <th>China</th>\n",
       "      <th>Australia</th>\n",
       "      <th>World</th>\n",
       "    </tr>\n",
       "  </thead>\n",
       "  <tbody>\n",
       "    <tr>\n",
       "      <th>0</th>\n",
       "      <td>2006</td>\n",
       "      <td>11070.909180</td>\n",
       "      <td>4116.769043</td>\n",
       "      <td>493.641815</td>\n",
       "      <td>47172.609375</td>\n",
       "    </tr>\n",
       "    <tr>\n",
       "      <th>1</th>\n",
       "      <td>2007</td>\n",
       "      <td>11001.755859</td>\n",
       "      <td>4313.567383</td>\n",
       "      <td>506.270294</td>\n",
       "      <td>47758.875000</td>\n",
       "    </tr>\n",
       "    <tr>\n",
       "      <th>2</th>\n",
       "      <td>2008</td>\n",
       "      <td>10273.695312</td>\n",
       "      <td>4408.091797</td>\n",
       "      <td>512.715942</td>\n",
       "      <td>47338.687500</td>\n",
       "    </tr>\n",
       "    <tr>\n",
       "      <th>3</th>\n",
       "      <td>2009</td>\n",
       "      <td>9737.244141</td>\n",
       "      <td>4580.298340</td>\n",
       "      <td>504.140778</td>\n",
       "      <td>46371.566406</td>\n",
       "    </tr>\n",
       "    <tr>\n",
       "      <th>4</th>\n",
       "      <td>2010</td>\n",
       "      <td>9891.227539</td>\n",
       "      <td>5214.490234</td>\n",
       "      <td>519.306824</td>\n",
       "      <td>47895.074219</td>\n",
       "    </tr>\n",
       "  </tbody>\n",
       "</table>\n",
       "</div>"
      ],
      "text/plain": [
       "   Year           USA        China   Australia         World\n",
       "0  2006  11070.909180  4116.769043  493.641815  47172.609375\n",
       "1  2007  11001.755859  4313.567383  506.270294  47758.875000\n",
       "2  2008  10273.695312  4408.091797  512.715942  47338.687500\n",
       "3  2009   9737.244141  4580.298340  504.140778  46371.566406\n",
       "4  2010   9891.227539  5214.490234  519.306824  47895.074219"
      ]
     },
     "execution_count": 308,
     "metadata": {},
     "output_type": "execute_result"
    }
   ],
   "source": [
    "df2.head()"
   ]
  },
  {
   "cell_type": "code",
   "execution_count": 309,
   "id": "db3f588d",
   "metadata": {},
   "outputs": [
    {
     "data": {
      "text/html": [
       "<div>\n",
       "<style scoped>\n",
       "    .dataframe tbody tr th:only-of-type {\n",
       "        vertical-align: middle;\n",
       "    }\n",
       "\n",
       "    .dataframe tbody tr th {\n",
       "        vertical-align: top;\n",
       "    }\n",
       "\n",
       "    .dataframe thead th {\n",
       "        text-align: right;\n",
       "    }\n",
       "</style>\n",
       "<table border=\"1\" class=\"dataframe\">\n",
       "  <thead>\n",
       "    <tr style=\"text-align: right;\">\n",
       "      <th></th>\n",
       "      <th>Year</th>\n",
       "      <th>USA</th>\n",
       "      <th>USA Pred</th>\n",
       "      <th>China</th>\n",
       "      <th>China Pred</th>\n",
       "      <th>Australia</th>\n",
       "      <th>Aus Pred</th>\n",
       "      <th>World</th>\n",
       "      <th>World Pred</th>\n",
       "    </tr>\n",
       "  </thead>\n",
       "  <tbody>\n",
       "    <tr>\n",
       "      <th>0</th>\n",
       "      <td>2006</td>\n",
       "      <td>11070.909180</td>\n",
       "      <td>10155.576478</td>\n",
       "      <td>4116.769043</td>\n",
       "      <td>NaN</td>\n",
       "      <td>493.641815</td>\n",
       "      <td>NaN</td>\n",
       "      <td>47172.609375</td>\n",
       "      <td>NaN</td>\n",
       "    </tr>\n",
       "    <tr>\n",
       "      <th>1</th>\n",
       "      <td>2007</td>\n",
       "      <td>11001.755859</td>\n",
       "      <td>10134.607027</td>\n",
       "      <td>4313.567383</td>\n",
       "      <td>NaN</td>\n",
       "      <td>506.270294</td>\n",
       "      <td>NaN</td>\n",
       "      <td>47758.875000</td>\n",
       "      <td>NaN</td>\n",
       "    </tr>\n",
       "    <tr>\n",
       "      <th>2</th>\n",
       "      <td>2008</td>\n",
       "      <td>10273.695312</td>\n",
       "      <td>10113.637575</td>\n",
       "      <td>4408.091797</td>\n",
       "      <td>NaN</td>\n",
       "      <td>512.715942</td>\n",
       "      <td>NaN</td>\n",
       "      <td>47338.687500</td>\n",
       "      <td>NaN</td>\n",
       "    </tr>\n",
       "    <tr>\n",
       "      <th>3</th>\n",
       "      <td>2009</td>\n",
       "      <td>9737.244141</td>\n",
       "      <td>10092.668124</td>\n",
       "      <td>4580.298340</td>\n",
       "      <td>NaN</td>\n",
       "      <td>504.140778</td>\n",
       "      <td>NaN</td>\n",
       "      <td>46371.566406</td>\n",
       "      <td>NaN</td>\n",
       "    </tr>\n",
       "    <tr>\n",
       "      <th>4</th>\n",
       "      <td>2010</td>\n",
       "      <td>9891.227539</td>\n",
       "      <td>10071.698673</td>\n",
       "      <td>5214.490234</td>\n",
       "      <td>NaN</td>\n",
       "      <td>519.306824</td>\n",
       "      <td>NaN</td>\n",
       "      <td>47895.074219</td>\n",
       "      <td>NaN</td>\n",
       "    </tr>\n",
       "  </tbody>\n",
       "</table>\n",
       "</div>"
      ],
      "text/plain": [
       "   Year           USA      USA Pred        China  China Pred   Australia  \\\n",
       "0  2006  11070.909180  10155.576478  4116.769043         NaN  493.641815   \n",
       "1  2007  11001.755859  10134.607027  4313.567383         NaN  506.270294   \n",
       "2  2008  10273.695312  10113.637575  4408.091797         NaN  512.715942   \n",
       "3  2009   9737.244141  10092.668124  4580.298340         NaN  504.140778   \n",
       "4  2010   9891.227539  10071.698673  5214.490234         NaN  519.306824   \n",
       "\n",
       "   Aus Pred         World  World Pred  \n",
       "0       NaN  47172.609375         NaN  \n",
       "1       NaN  47758.875000         NaN  \n",
       "2       NaN  47338.687500         NaN  \n",
       "3       NaN  46371.566406         NaN  \n",
       "4       NaN  47895.074219         NaN  "
      ]
     },
     "execution_count": 309,
     "metadata": {},
     "output_type": "execute_result"
    }
   ],
   "source": [
    "df3=pd.read_excel(\"WOC testing.xlsx\")\n",
    "df3.head()"
   ]
  },
  {
   "cell_type": "code",
   "execution_count": 371,
   "id": "17f76bc2",
   "metadata": {
    "scrolled": true
   },
   "outputs": [
    {
     "data": {
      "text/plain": [
       "<matplotlib.legend.Legend at 0x12c04923ee0>"
      ]
     },
     "execution_count": 371,
     "metadata": {},
     "output_type": "execute_result"
    },
    {
     "data": {
      "image/png": "[encoded data removed]",
      "text/plain": [
       "<Figure size 1872x360 with 1 Axes>"
      ]
     },
     "metadata": {
      "needs_background": "light"
     },
     "output_type": "display_data"
    }
   ],
   "source": [
    "plt.figure(figsize=(26,5))\n",
    "plt.scatter(df3.Year, df3.USA)\n",
    "plt.scatter(df3.Year,df3['USA Pred'])\n",
    "plt.xlabel(\"Year\")\n",
    "plt.ylabel(\"Oil Consumption in TWh\")\n",
    "plt.title(\"USA Actual Consumption vs Predicted Consumption\")\n",
    "plt.legend([\"Actual\",'Predicted'], loc=0)"
   ]
  },
  {
   "cell_type": "code",
   "execution_count": null,
   "id": "e7c289bb",
   "metadata": {},
   "outputs": [],
   "source": []
  }
 ],
 "metadata": {
  "kernelspec": {
   "display_name": "Python 3 (ipykernel)",
   "language": "python",
   "name": "python3"
  },
  "language_info": {
   "codemirror_mode": {
    "name": "ipython",
    "version": 3
   },
   "file_extension": ".py",
   "mimetype": "text/x-python",
   "name": "python",
   "nbconvert_exporter": "python",
   "pygments_lexer": "ipython3",
   "version": "3.8.8"
  }
 },
 "nbformat": 4,
 "nbformat_minor": 5
}
